{
  "nbformat": 4,
  "nbformat_minor": 0,
  "metadata": {
    "colab": {
      "name": "lecture2.ipynb",
      "provenance": [],
      "collapsed_sections": [],
      "authorship_tag": "ABX9TyOtF/710QlGVYvPtbkbePbU",
      "include_colab_link": true
    },
    "kernelspec": {
      "name": "python3",
      "display_name": "Python 3"
    },
    "language_info": {
      "name": "python"
    }
  },
  "cells": [
    {
      "cell_type": "markdown",
      "metadata": {
        "id": "view-in-github",
        "colab_type": "text"
      },
      "source": [
        "<a href=\"https://colab.research.google.com/github/yunju-m/DAP/blob/main/lecture2.ipynb\" target=\"_parent\"><img src=\"https://colab.research.google.com/assets/colab-badge.svg\" alt=\"Open In Colab\"/></a>"
      ]
    },
    {
      "cell_type": "code",
      "metadata": {
        "id": "AiMmLV-mD8qk"
      },
      "source": [
        "import numpy as np\n",
        "import pandas as pd\n",
        "\n",
        "np.random.seed(0)"
      ],
      "execution_count": 1,
      "outputs": []
    },
    {
      "cell_type": "markdown",
      "metadata": {
        "id": "4yd2dgRgYSD7"
      },
      "source": [
        "# NumPy Exercises!\n",
        "Complete the solution code to have a desired output.\n",
        "\n",
        "**[Caution!]** Not allow to use iteration, such as for-loop.\n"
      ]
    },
    {
      "cell_type": "markdown",
      "metadata": {
        "id": "H1PbUHPYY5jv"
      },
      "source": [
        "### 1. Create a 4×4 numpy array of all True boolean’s "
      ]
    },
    {
      "cell_type": "code",
      "metadata": {
        "colab": {
          "base_uri": "https://localhost:8080/"
        },
        "id": "tMvfBvi6Y4Pb",
        "outputId": "b09b00e3-7f46-4620-99d3-253654e52143"
      },
      "source": [
        "# Input\n",
        "arr_size = (4, 4)\n",
        "\n",
        "# Solution\n",
        "bool_arr = np.full(arr_size, True, dtype=bool)\n",
        "\n",
        "# Print\n",
        "print(bool_arr)"
      ],
      "execution_count": 3,
      "outputs": [
        {
          "output_type": "stream",
          "name": "stdout",
          "text": [
            "[[ True  True  True  True]\n",
            " [ True  True  True  True]\n",
            " [ True  True  True  True]\n",
            " [ True  True  True  True]]\n"
          ]
        }
      ]
    },
    {
      "cell_type": "markdown",
      "metadata": {
        "id": "l-zz8ep2Z02a"
      },
      "source": [
        "### 2. Extract all odd numbers from given `arr`"
      ]
    },
    {
      "cell_type": "code",
      "metadata": {
        "colab": {
          "base_uri": "https://localhost:8080/"
        },
        "id": "RyTwBxAaZ2g2",
        "outputId": "76175d12-324f-446d-b363-fbaa3d75d0d9"
      },
      "source": [
        "# Input\n",
        "arr = np.arange(30)\n",
        "\n",
        "# Solution\n",
        "arr = arr[1:30:2]\n",
        "\n",
        "# Print\n",
        "print(arr)"
      ],
      "execution_count": 4,
      "outputs": [
        {
          "output_type": "stream",
          "name": "stdout",
          "text": [
            "[ 1  3  5  7  9 11 13 15 17 19 21 23 25 27 29]\n"
          ]
        }
      ]
    },
    {
      "cell_type": "markdown",
      "metadata": {
        "id": "myQ6-_KkbjRf"
      },
      "source": [
        "### 3. Get the positions where elements of `a` and `b` match"
      ]
    },
    {
      "cell_type": "markdown",
      "metadata": {
        "id": "LuA98xzub7rp"
      },
      "source": [
        "(hint, refer [np.where](https://numpy.org/doc/stable/reference/generated/numpy.where.html).)"
      ]
    },
    {
      "cell_type": "code",
      "metadata": {
        "colab": {
          "base_uri": "https://localhost:8080/"
        },
        "id": "igllv_wzb9h-",
        "outputId": "37834ba8-ba0c-458a-df9e-34088f91cdbb"
      },
      "source": [
        "# Input\n",
        "a = np.array([1, 2, 3, 2, 3, 4, 3, 4, 5, 6])\n",
        "b = np.array([7, 2, 10, 2, 7, 4, 9, 4, 9, 8])\n",
        "\n",
        " # Solution\n",
        "idx = np.where(a==b)\n",
        "\n",
        "# Print\n",
        "print(idx)"
      ],
      "execution_count": 15,
      "outputs": [
        {
          "output_type": "stream",
          "name": "stdout",
          "text": [
            "(array([1, 3, 5, 7]),)\n"
          ]
        }
      ]
    },
    {
      "cell_type": "markdown",
      "metadata": {
        "id": "ikmL4s0HgsXx"
      },
      "source": [
        "### 4. Find the mean, median, standard deviation of iris's `sepallength` (1st column)."
      ]
    },
    {
      "cell_type": "markdown",
      "metadata": {
        "id": "A-F8H4Rxg9D_"
      },
      "source": [
        "Double-click (or enter) to edit"
      ]
    },
    {
      "cell_type": "code",
      "metadata": {
        "id": "w4qo_5dhhBxi"
      },
      "source": [
        "# Input\n",
        "url = 'https://archive.ics.uci.edu/ml/machine-learning-databases/iris/iris.data'\n",
        "iris = np.genfromtxt(url, delimiter=',', dtype='object')\n",
        "sepallength = np.genfromtxt(url, delimiter=',', dtype='float', usecols=[0])\n",
        "\n",
        "# Solution\n",
        "mu, med, std = \n",
        "\n",
        "# Print\n",
        "print(mu, med, std)"
      ],
      "execution_count": null,
      "outputs": []
    },
    {
      "cell_type": "markdown",
      "metadata": {
        "id": "cNZOVMV2hgQv"
      },
      "source": [
        "### 5. Find the duplicate entries (2nd occurrence onwards) in the given numpy array and mark them as True. First time occurrences should be False. \n",
        "(hint, refer [np.unique](https://numpy.org/doc/stable/reference/generated/numpy.unique.html).)"
      ]
    },
    {
      "cell_type": "code",
      "metadata": {
        "id": "avXcf2lYhufr"
      },
      "source": [
        "# Input\n",
        "np.random.seed(100),\n",
        "a = np.random.randint(0, 5, 10)\n",
        "print('Array: ', a)\n",
        "\n",
        "# Solution\n",
        "## Create an all True array\n",
        "out = \n",
        "\n",
        "## Find the index positions of unique elements\n",
        "unique_positions = \n",
        "        \n",
        "## Mark those positions as False\n",
        "out[unique_positions]\n",
        "\n",
        "print('Duplicate entrie: ', out)"
      ],
      "execution_count": null,
      "outputs": []
    },
    {
      "cell_type": "markdown",
      "metadata": {
        "id": "L-U2FVUpiZUe"
      },
      "source": [
        "### 6. Combine `ser1` and `ser2` to form a dataframe."
      ]
    },
    {
      "cell_type": "code",
      "metadata": {
        "id": "TrC5HrmKikoK"
      },
      "source": [
        "# Input\n",
        "ser1 = pd.Series(list('abcedfghijklmnopqrstuvwxyz'))\n",
        " ser2 = pd.Series(np.arange(26))\n",
        "\n",
        "# Solution \n",
        " df = pd.DataFrame(\n",
        "\n",
        "# Print,\n",
        "print(df.head())"
      ],
      "execution_count": null,
      "outputs": []
    },
    {
      "cell_type": "markdown",
      "metadata": {
        "id": "RBO4DHdRiuIB"
      },
      "source": [
        "### 7. Check if `df` has any missing values."
      ]
    },
    {
      "cell_type": "code",
      "metadata": {
        "id": "MFGS75f5i9E_"
      },
      "source": [
        "# Input\n",
        "df = pd.read_csv('https://raw.githubusercontent.com/selva86/datasets/master/Cars93_miss.csv')\n",
        "print(df.head())\n",
        "  \n",
        "# Solution\n",
        "print('\\\\nIs there any missing value?:',"
      ],
      "execution_count": null,
      "outputs": []
    },
    {
      "cell_type": "markdown",
      "metadata": {
        "id": "8TL2JQW-jKeC"
      },
      "source": [
        "### 8. Create a TimeSeries starting `2021-01-01` and 10 weekends (sundays) after that **having** random numbers as values?"
      ]
    },
    {
      "cell_type": "code",
      "metadata": {
        "colab": {
          "base_uri": "https://localhost:8080/"
        },
        "id": "DaKjIByhjVwn",
        "outputId": "08ea7420-989d-4875-d6e2-347294e52873"
      },
      "source": [
        "# Solution\n",
        "ser = pd.Series(pd.date_range('2021-01-01', periods=10, freq='W-SUN'))\n",
        "print(ser)"
      ],
      "execution_count": 16,
      "outputs": [
        {
          "output_type": "stream",
          "name": "stdout",
          "text": [
            "0   2021-01-03\n",
            "1   2021-01-10\n",
            "2   2021-01-17\n",
            "3   2021-01-24\n",
            "4   2021-01-31\n",
            "5   2021-02-07\n",
            "6   2021-02-14\n",
            "7   2021-02-21\n",
            "8   2021-02-28\n",
            "9   2021-03-07\n",
            "dtype: datetime64[ns]\n"
          ]
        }
      ]
    },
    {
      "cell_type": "markdown",
      "metadata": {
        "id": "L0naKUwXjr5p"
      },
      "source": [
        "### 9. In `df`, compute the mean price of every fruit using grouping function."
      ]
    },
    {
      "cell_type": "code",
      "metadata": {
        "colab": {
          "base_uri": "https://localhost:8080/"
        },
        "id": "hHOCtVyDjvnT",
        "outputId": "583a3595-9386-4707-a5f2-9e319fd2dce4"
      },
      "source": [
        "# Input\n",
        "df = pd.DataFrame({'fruit': ['apple', 'banana', 'orange'] * 3,\n",
        "                           'rating': np.random.rand(9),\n",
        "                          'price': np.random.randint(0, 15, 9)})\n",
        "  \n",
        "# Solution\n",
        "out = df.groupby\n",
        "print(out)"
      ],
      "execution_count": 17,
      "outputs": [
        {
          "output_type": "stream",
          "name": "stdout",
          "text": [
            "<bound method DataFrame.groupby of     fruit    rating  price\n",
            "0   apple  0.548814     10\n",
            "1  banana  0.715189      1\n",
            "2  orange  0.602763      6\n",
            "3   apple  0.544883      7\n",
            "4  banana  0.423655      7\n",
            "5  orange  0.645894     14\n",
            "6   apple  0.437587      8\n",
            "7  banana  0.891773      1\n",
            "8  orange  0.963663      5>\n"
          ]
        }
      ]
    },
    {
      "cell_type": "markdown",
      "metadata": {
        "id": "0M-OFtkAkWC8"
      },
      "source": [
        "### 10. Join two dataframes `df1` and `df2` for intersection items on `use_id`.\n",
        "For `df2`, please select only `use_id`, `platform`, `device` columns not all columns for merging."
      ]
    },
    {
      "cell_type": "code",
      "metadata": {
        "id": "B61DMwN0kqwD"
      },
      "source": [
        "# Input\n",
        "base_path = 'https://raw.githubusercontent.com/shanealynn/Pandas-Merge-Tutorial/master/'\n",
        "df1 = pd.read_csv(base_path + 'user_usage.csv')\n",
        "df2 = pd.read_csv(base_path + 'user_device.csv')\n",
        "\n",
        "# Solution\n",
        "pd.merge("
      ],
      "execution_count": null,
      "outputs": []
    }
  ]
}