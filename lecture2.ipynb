{
  "nbformat": 4,
  "nbformat_minor": 0,
  "metadata": {
    "colab": {
      "name": "lecture2.ipynb",
      "provenance": [],
      "collapsed_sections": [],
      "authorship_tag": "ABX9TyNJlHc3Go/Jvaz3G2o+bv/e",
      "include_colab_link": true
    },
    "kernelspec": {
      "name": "python3",
      "display_name": "Python 3"
    },
    "language_info": {
      "name": "python"
    }
  },
  "cells": [
    {
      "cell_type": "markdown",
      "metadata": {
        "id": "view-in-github",
        "colab_type": "text"
      },
      "source": [
        "<a href=\"https://colab.research.google.com/github/yunju-m/DAP/blob/main/lecture2.ipynb\" target=\"_parent\"><img src=\"https://colab.research.google.com/assets/colab-badge.svg\" alt=\"Open In Colab\"/></a>"
      ]
    },
    {
      "cell_type": "code",
      "metadata": {
        "id": "AiMmLV-mD8qk"
      },
      "source": [
        "import numpy as np\n",
        "import pandas as pd\n",
        "\n",
        "np.random.seed(0)"
      ],
      "execution_count": 1,
      "outputs": []
    },
    {
      "cell_type": "markdown",
      "metadata": {
        "id": "4yd2dgRgYSD7"
      },
      "source": [
        "# NumPy Exercises!\\n\n",
        "Complete the solution code to have a desired output.\n",
        "\n",
        "**[Caution!]** Not allow to use iteration, such as for-loop.\n"
      ]
    },
    {
      "cell_type": "markdown",
      "metadata": {
        "id": "H1PbUHPYY5jv"
      },
      "source": [
        "### 1. Create a 4×4 numpy array of all True boolean’s "
      ]
    },
    {
      "cell_type": "code",
      "metadata": {
        "colab": {
          "base_uri": "https://localhost:8080/"
        },
        "id": "tMvfBvi6Y4Pb",
        "outputId": "b09b00e3-7f46-4620-99d3-253654e52143"
      },
      "source": [
        "# Input\n",
        "arr_size = (4, 4)\n",
        "\n",
        "# Solution\n",
        "bool_arr = np.full(arr_size, True, dtype=bool)\n",
        "\n",
        "# Print\n",
        "print(bool_arr)"
      ],
      "execution_count": 3,
      "outputs": [
        {
          "output_type": "stream",
          "name": "stdout",
          "text": [
            "[[ True  True  True  True]\n",
            " [ True  True  True  True]\n",
            " [ True  True  True  True]\n",
            " [ True  True  True  True]]\n"
          ]
        }
      ]
    },
    {
      "cell_type": "markdown",
      "metadata": {
        "id": "l-zz8ep2Z02a"
      },
      "source": [
        "### 2. Extract all odd numbers from given `arr`"
      ]
    },
    {
      "cell_type": "code",
      "metadata": {
        "id": "RyTwBxAaZ2g2"
      },
      "source": [
        ""
      ],
      "execution_count": null,
      "outputs": []
    }
  ]
}